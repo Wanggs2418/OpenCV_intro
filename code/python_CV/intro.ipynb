{
 "cells": [
  {
   "cell_type": "code",
   "execution_count": 72,
   "metadata": {},
   "outputs": [
    {
     "name": "stdout",
     "output_type": "stream",
     "text": [
      "4.7.0\n"
     ]
    }
   ],
   "source": [
    "import cv2 as cv\n",
    "import numpy as np\n",
    "import matplotlib.pyplot as plt\n",
    "print( cv.__version__ )"
   ]
  },
  {
   "cell_type": "code",
   "execution_count": null,
   "metadata": {},
   "outputs": [],
   "source": [
    "def imgBGR2RGB(img_array):\n",
    "    img_rgb = []\n",
    "    for i in range(len(img_array)):\n",
    "        temp = cv.cvtColor(img_array[i], cv.COLOR_BGR2RGB)\n",
    "        img_rgb.append(temp)\n",
    "    return img_rgb"
   ]
  },
  {
   "cell_type": "code",
   "execution_count": null,
   "metadata": {},
   "outputs": [],
   "source": [
    "def stackImages(scale,imgArray):\n",
    "    rows = len(imgArray)\n",
    "    cols = len(imgArray[0])\n",
    "    rowsAvailable = isinstance(imgArray[0], list)\n",
    "    width = imgArray[0][0].shape[1]\n",
    "    height = imgArray[0][0].shape[0]\n",
    "    if rowsAvailable:\n",
    "        for x in range ( 0, rows):\n",
    "            for y in range(0, cols):\n",
    "                if imgArray[x][y].shape[:2] == imgArray[0][0].shape [:2]:\n",
    "                    imgArray[x][y] = cv.resize(imgArray[x][y], (0, 0), None, scale, scale)\n",
    "                else:\n",
    "                    imgArray[x][y] = cv.resize(imgArray[x][y], (imgArray[0][0].shape[1], imgArray[0][0].shape[0]), None, scale, scale)\n",
    "                if len(imgArray[x][y].shape) == 2: imgArray[x][y]= cv.cvtColor( imgArray[x][y], cv.COLOR_GRAY2BGR)\n",
    "        imageBlank = np.zeros((height, width, 3), np.uint8)\n",
    "        hor = [imageBlank]*rows\n",
    "        hor_con = [imageBlank]*rows\n",
    "        for x in range(0, rows):\n",
    "            hor[x] = np.hstack(imgArray[x])\n",
    "        ver = np.vstack(hor)\n",
    "    else:\n",
    "        for x in range(0, rows):\n",
    "            if imgArray[x].shape[:2] == imgArray[0].shape[:2]:\n",
    "                imgArray[x] = cv.resize(imgArray[x], (0, 0), None, scale, scale)\n",
    "            else:\n",
    "                imgArray[x] = cv.resize(imgArray[x], (imgArray[0].shape[1], imgArray[0].shape[0]), None,scale, scale)\n",
    "            if len(imgArray[x].shape) == 2: imgArray[x] = cv.cvtColor(imgArray[x], cv.COLOR_GRAY2BGR)\n",
    "        hor= np.hstack(imgArray)\n",
    "        ver = hor\n",
    "    return ver"
   ]
  },
  {
   "attachments": {},
   "cell_type": "markdown",
   "metadata": {},
   "source": [
    "1.显示图片"
   ]
  },
  {
   "cell_type": "code",
   "execution_count": null,
   "metadata": {},
   "outputs": [],
   "source": [
    "img = cv.imread(\"img/01.jpg\", 0)"
   ]
  },
  {
   "cell_type": "code",
   "execution_count": null,
   "metadata": {},
   "outputs": [],
   "source": [
    "img = cv.imread(\"img/01.jpg\", 0)\n",
    "cv.imshow(\"输出的图片\", img)\n",
    "# cv.waitKey(10000)\n",
    "c = cv.waitKey(0)\n",
    "if c==27 or c == ord('q'):\n",
    "    cv.destroyAllWindows()\n",
    "elif c==ord('s'):\n",
    "    cv.imwrite('other_save.png', img)\n",
    "    cv.destroyAllWindows()"
   ]
  },
  {
   "attachments": {},
   "cell_type": "markdown",
   "metadata": {},
   "source": [
    "2.显示视频"
   ]
  },
  {
   "cell_type": "code",
   "execution_count": null,
   "metadata": {},
   "outputs": [],
   "source": [
    "framewidth = 640\n",
    "frameheight = 480\n",
    "fps = 100 # 设置帧率\n",
    "\n",
    "# 其中propId是0到18之间的一个数字。每个数字表示视频的属性\n",
    "# cap.set(propID, value)\n",
    "\n",
    "# cap = cv2.VideoCapture(\"video/test01.avi\")\n",
    "cap = cv.VideoCapture(0, cv.CAP_DSHOW)\n",
    "cap.set(cv.CAP_PROP_FRAME_WIDTH, framewidth) #id-3\n",
    "cap.set(cv.CAP_PROP_FRAME_HEIGHT, frameheight) #id-4\n",
    "cap.set(cv.CAP_PROP_FPS, fps) #id-5\n",
    "cap.set(cv.CAP_PROP_BRIGHTNESS, 1) #id-10\n",
    "\n",
    "if not cap.isOpened():\n",
    "    print(\"无法打开摄像头！\")\n",
    "    exit()\n",
    "while True:\n",
    "    success, img = cap.read()\n",
    "    if not success:\n",
    "        print(\"不能读取视频帧!\")\n",
    "        break\n",
    "    cv.imshow(\"video\", img)\n",
    "    # gray = cv.cvtColor(img, cv.COLOR_BGR2GRAY)\n",
    "    # cv.imshow(\"gray\", gray)\n",
    "    if cv.waitKey(1) & 0xFF == ord('q'):\n",
    "        break\n",
    "cap.release()\n",
    "cv.destroyAllWindows()"
   ]
  },
  {
   "cell_type": "code",
   "execution_count": null,
   "metadata": {},
   "outputs": [],
   "source": [
    "# example\n",
    "import numpy as np\n",
    "import cv2 as cv\n",
    "cap = cv.VideoCapture(0)\n",
    "# Define the codec and create VideoWriter object\n",
    "fourcc = cv.VideoWriter_fourcc(*'XVID')\n",
    "out = cv.VideoWriter('output.avi', fourcc, 20.0, (640,  480))\n",
    "while cap.isOpened():\n",
    "    ret, frame = cap.read()\n",
    "    if not ret:\n",
    "        print(\"Can't receive frame (stream end?). Exiting ...\")\n",
    "        break\n",
    "    # frame = cv.flip(frame, 0)\n",
    "    # write the flipped frame\n",
    "    out.write(frame)\n",
    "    cv.imshow('frame', frame)\n",
    "    if cv.waitKey(1) == ord('q'):\n",
    "        break\n",
    "# Release everything if job is finished\n",
    "cap.release()\n",
    "out.release()\n",
    "cv.destroyAllWindows()"
   ]
  },
  {
   "attachments": {},
   "cell_type": "markdown",
   "metadata": {},
   "source": [
    "3.色彩转换-cvtColor"
   ]
  },
  {
   "cell_type": "code",
   "execution_count": null,
   "metadata": {},
   "outputs": [],
   "source": [
    "kernel = np.ones((5, 5), np.uint8)\n",
    "img = cv.imread(\"img/03.jpg\")\n",
    "\n",
    "img_gray = cv.cvtColor(img, cv.COLOR_BGR2GRAY)\n",
    "img_blur = cv.GaussianBlur(img, (7, 7), 0)\n",
    "img_canny = cv.Canny(img, 150, 200) # 边缘检测\n",
    "img_dilation = cv.dilate(img_gray, kernel, iterations=1) # 迭代一次\n",
    "img_erode = cv.erode(img_gray, kernel, iterations=1) # 迭代一次\n",
    "\n",
    "# cv.imshow(\"name01\", img_gray)\n",
    "# cv.imshow(\"blur\", img_blur)\n",
    "cv.imshow(\"canny\", img_canny)\n",
    "cv.imshow(\"canny_dilation\", img_dilation)\n",
    "cv.imshow(\"canny_erode\", img_erode)\n",
    "\n",
    "c = cv.waitKey(0)\n",
    "cv.destroyAllWindows()"
   ]
  },
  {
   "attachments": {},
   "cell_type": "markdown",
   "metadata": {},
   "source": [
    "4.尺寸变换和图片裁剪"
   ]
  },
  {
   "cell_type": "code",
   "execution_count": null,
   "metadata": {},
   "outputs": [],
   "source": [
    "img = cv.imread(\"img/01.jpg\")\n",
    "print(img)\n",
    "print(img.shape)"
   ]
  },
  {
   "cell_type": "code",
   "execution_count": null,
   "metadata": {},
   "outputs": [],
   "source": [
    "# 只是更改显示的尺寸\n",
    "img_resize = cv.resize(img, (300, 480))\n",
    "cv.imshow(\"Image\", img)\n",
    "cv.imshow(\"Image_resize\", img_resize)\n",
    "cv.waitKey(0)\n",
    "cv.destroyAllWindows()"
   ]
  },
  {
   "cell_type": "code",
   "execution_count": null,
   "metadata": {},
   "outputs": [],
   "source": [
    "# 接着切片实现裁剪裁剪\n",
    "img_cropped = img[0:500, 1000:1200]\n",
    "cv.imwrite(\"crop_500_200.jpg\", img_cropped)\n",
    "cv.imshow(\"裁剪:\", img_cropped)\n",
    "cv.waitKey(0)\n",
    "cv.destroyAllWindows()"
   ]
  },
  {
   "attachments": {},
   "cell_type": "markdown",
   "metadata": {},
   "source": [
    "5.绘制形状"
   ]
  },
  {
   "cell_type": "code",
   "execution_count": null,
   "metadata": {},
   "outputs": [],
   "source": [
    "# [0, 256)\n",
    "img = np.random.randint(0, 256, (512, 500, 3), dtype=np.uint8)\n",
    "img[:] = 255, 255, 1\n",
    "# img = cv.imread(\"img/01.jpg\")\n",
    "print(img.shape)\n",
    "# print(img[0][0])\n",
    "\n",
    "# 定义线，起点；终点；颜色; 粗细\n",
    "# img.shape=(高， 宽)\n",
    "cv.line(img, (0,0), (img.shape[0], img.shape[1]), (0, 0, 255), 1)\n",
    "cv.putText(img, \"demo_test\", (100, 100), cv.FONT_HERSHEY_COMPLEX, 1, (255, 0, 0), 1)\n",
    "\n",
    "cv.imshow(\"define_image\", img)\n",
    "cv.waitKey(0)\n",
    "\n",
    "cv.destroyAllWindows()"
   ]
  },
  {
   "attachments": {},
   "cell_type": "markdown",
   "metadata": {},
   "source": [
    "6.透视变换"
   ]
  },
  {
   "cell_type": "code",
   "execution_count": null,
   "metadata": {},
   "outputs": [],
   "source": []
  },
  {
   "attachments": {},
   "cell_type": "markdown",
   "metadata": {},
   "source": [
    "7.水平/竖向堆叠-简易实现"
   ]
  },
  {
   "cell_type": "code",
   "execution_count": null,
   "metadata": {},
   "outputs": [],
   "source": [
    "# 水平堆叠的实现\n",
    "img = cv.imread(\"img/03.jpg\")\n",
    "hor = np.hstack((img, img))\n",
    "cv.imshow(\"hor\", hor)\n",
    "cv.waitKey(0)\n",
    "cv.destroyAllWindows()"
   ]
  },
  {
   "attachments": {},
   "cell_type": "markdown",
   "metadata": {},
   "source": [
    "8.鼠标操作"
   ]
  },
  {
   "cell_type": "code",
   "execution_count": null,
   "metadata": {},
   "outputs": [],
   "source": [
    "events = [i for i in dir(cv) if 'EVENT' in i]\n",
    "print( events )"
   ]
  },
  {
   "attachments": {},
   "cell_type": "markdown",
   "metadata": {},
   "source": [
    "9.基本操作-含subplot排版\n",
    "\n",
    "切片，填充，融合"
   ]
  },
  {
   "cell_type": "code",
   "execution_count": null,
   "metadata": {},
   "outputs": [],
   "source": [
    "img = cv.imread(\"img/01.jpg\")\n",
    "px = img[100, 100] # 一个彩色单元的内容\n",
    "print(px)\n",
    "px_value = img[100, 100, 0] # BGR格式，对应0-B,1-G,2-R\n",
    "print(\"blue elemnet value is: \", px_value)"
   ]
  },
  {
   "cell_type": "code",
   "execution_count": null,
   "metadata": {},
   "outputs": [],
   "source": [
    "# 借助 item 访问\n",
    "px = img.item(100, 100, 0)\n",
    "print(px)\n",
    "# 重新设置相关的值\n",
    "new_px = img.itemset((100, 100, 0), 120)\n",
    "px_modify = img.item(100, 100, 0)\n",
    "print(px_modify)"
   ]
  },
  {
   "cell_type": "code",
   "execution_count": null,
   "metadata": {},
   "outputs": [],
   "source": [
    "# 访问属性\n",
    "# img = cv.imread(\"img/01.jpg\", 0)\n",
    "print(img.shape)\n",
    "print(img.dtype)\n",
    "print(img.size)\n",
    "# print(1440*1920*3), imgsize 为总数相乘"
   ]
  },
  {
   "cell_type": "code",
   "execution_count": null,
   "metadata": {},
   "outputs": [],
   "source": [
    "# print(340-280, 333-273)\n",
    "# 图片分割,将图中的足球分割出来\n",
    "img = cv.imread(\"img/roi_test.jpg\")\n",
    "print(img.shape) # 输出高，宽\n",
    "ball = img[220:280, 330:390]\n",
    "# print(ball)\n",
    "img[213:273, 85:145] = ball\n",
    "\n",
    "cv.imshow('a', img)\n",
    "cv.waitKey(0)\n",
    "cv.destroyAllWindows()"
   ]
  },
  {
   "cell_type": "code",
   "execution_count": null,
   "metadata": {},
   "outputs": [],
   "source": [
    "# 通道数的分离和合并\n",
    "b,g,r = cv.split(img)\n",
    "img = cv.merge((b,g,r))\n",
    "# 或采用切片操作\n",
    "b = img[:, :, 0]\n",
    "\n",
    "# 使得B 和 R通道为0\n",
    "img[:,:,2] = 0\n",
    "img[:,:,0] = 0\n",
    "\n",
    "cv.imshow('a', img)\n",
    "cv.waitKey(0)\n",
    "cv.destroyAllWindows()"
   ]
  },
  {
   "cell_type": "code",
   "execution_count": null,
   "metadata": {},
   "outputs": [],
   "source": [
    "# 边界填充\n",
    "BLUE = [255,0,0]\n",
    "img = cv.imread(\"img/03.jpg\")\n",
    "# (src, top, bottom, left, right, bodertype)\n",
    "replicate = cv.copyMakeBorder(img,10,10,10,10,cv.BORDER_REPLICATE)\n",
    "reflect = cv.copyMakeBorder(img,10,10,10,10,cv.BORDER_REFLECT)\n",
    "reflect101 = cv.copyMakeBorder(img,10,10,10,10,cv.BORDER_REFLECT_101)\n",
    "wrap = cv.copyMakeBorder(img,10,10,10,10,cv.BORDER_WRAP)\n",
    "constant= cv.copyMakeBorder(img,10,10,10,10,cv.BORDER_CONSTANT,value=BLUE)\n",
    "\n",
    "# cv2是默认BGR顺序，而用plt.imshow画图是RGB顺序\n",
    "# plt.subplot(231),plt.imshow(img, 'gray'),plt.title('ORIGINAL')\n",
    "# plt.subplot(232),plt.imshow(replicate,'gray'),plt.title('REPLICATE')\n",
    "# plt.subplot(233),plt.imshow(reflect,'gray'),plt.title('REFLECT')\n",
    "# plt.subplot(234),plt.imshow(reflect101,'gray'),plt.title('REFLECT_101')\n",
    "# plt.subplot(235),plt.imshow(wrap,'gray'),plt.title('WRAP')\n",
    "# plt.subplot(236),plt.imshow(constant,'gray'),plt.title('CONSTANT')\n",
    "titles = ['ORIGINAL', 'REPLICATE', 'REFLECT', 'REFLECT_101', 'WRAP', 'CONSTANT']\n",
    "images = [img, replicate, reflect, reflect101, wrap, constant]\n",
    "imagesRGB = imgBGR2RGB(images)\n",
    "\n",
    "for i in range(6):\n",
    "    plt.subplot(2, 3, i+1), plt.imshow(imagesRGB[i])\n",
    "    plt.title(titles[i])\n",
    "    plt.xticks([]), plt.yticks([])\n",
    "plt.show()\n",
    "\n",
    "# cv.imshow('a', img)\n",
    "cv.waitKey(0)\n",
    "cv.destroyAllWindows()"
   ]
  },
  {
   "attachments": {},
   "cell_type": "markdown",
   "metadata": {},
   "source": [
    "10.几何操作-融合/位操作"
   ]
  },
  {
   "cell_type": "code",
   "execution_count": null,
   "metadata": {},
   "outputs": [],
   "source": [
    "# modulo operation 和 saturated operation\n",
    "x = np.uint8([250])\n",
    "y = np.uint8([10])\n",
    "\n",
    "print(x)\n",
    "print(y)\n",
    "\n",
    "print(\"saturated\", cv.add(x, y))\n",
    "print(\"modulo\", x + y)"
   ]
  },
  {
   "cell_type": "code",
   "execution_count": null,
   "metadata": {},
   "outputs": [],
   "source": [
    "# 图片融合操作\n",
    "img1 = cv.imread(\"img/01.jpg\")\n",
    "print(img1.shape)\n",
    "img2 = cv.imread(\"img/02.jpg\")\n",
    "print(img2.shape)\n",
    "img2 = img2[0:img1.shape[0], 0:img1.shape[1]]\n",
    "\n",
    "dst = cv.addWeighted(img1,0.1,img2,0.8,0)\n",
    "\n",
    "cv.imshow('dst', dst)\n",
    "cv.waitKey(0)\n",
    "cv.destroyAllWindows()"
   ]
  },
  {
   "cell_type": "code",
   "execution_count": null,
   "metadata": {},
   "outputs": [],
   "source": [
    "# 图片位操作\n",
    "logo = cv.imread(\"img/opencv-logo-white.jpg\")\n",
    "# 确保操作的图片宽高都大于水印的大小\n",
    "main_img = cv.imread(\"img/01.jpg\")\n",
    "# print(main_img.shape)\n",
    "rows, cols, channels = logo.shape\n",
    "roi = main_img[0:rows, 0:cols]\n",
    "# print(\"roi_shape\", roi.shape)\n",
    "\n",
    "logo_gray = cv.cvtColor(logo, cv.COLOR_BGR2GRAY)\n",
    "# 转换为二值图像，10-阈值，255-填充色，0黑\n",
    "# 使用固定阈值进行二值处理,大于时取 255，反之取 0；\n",
    "ret, mask = cv.threshold(logo_gray, 30, 255, cv.THRESH_BINARY)\n",
    "\n",
    "mask_inv = cv.bitwise_not(mask) # 取反,变为白底\n",
    "# print(\"logo_shape\", logo.shape)\n",
    "logo_fg = cv.bitwise_and(logo, logo, mask=mask) # 将logo区域外的地方置0，得到前景\n",
    "main_bg = cv.bitwise_and(roi, roi, mask=mask_inv) # 将 ROI 的logo 区域设置为 0\n",
    "dst = cv.add(logo_fg, main_bg)\n",
    "main_img[0:rows, 0:cols ] = dst\n",
    "\n",
    "\n",
    "plt.subplot(441),plt.imshow(imgBGR2RGB(logo),'gray'),plt.title('original')\n",
    "plt.subplot(442),plt.imshow(imgBGR2RGB(mask),'gray'),plt.title('mask')\n",
    "plt.subplot(443),plt.imshow(imgBGR2RGB(mask_inv),'gray'),plt.title('mask_inv')\n",
    "plt.subplot(444),plt.imshow(imgBGR2RGB(logo_fg),'gray'),plt.title('logo_fg')\n",
    "plt.subplot(412),plt.imshow(imgBGR2RGB(main_img),'gray'),plt.title('main_img')\n",
    "plt.subplot(413),plt.imshow(main_img,'gray'),plt.title('main_img')\n",
    "plt.subplot(414),plt.imshow(main_img,'gray'),plt.title('main_img')\n",
    "\n",
    "plt.show()"
   ]
  },
  {
   "attachments": {},
   "cell_type": "markdown",
   "metadata": {},
   "source": [
    "11.代码效率提升"
   ]
  },
  {
   "cell_type": "code",
   "execution_count": null,
   "metadata": {},
   "outputs": [],
   "source": [
    "cv.useOptimized()\n",
    "# 设置\n",
    "cv.setUseOptimized(True)"
   ]
  },
  {
   "cell_type": "code",
   "execution_count": null,
   "metadata": {},
   "outputs": [],
   "source": [
    "img = cv.imread(\"img/01.jpg\")\n",
    "%timeit res = cv.medianBlur(img, 49)\n",
    "cv.setUseOptimized(False)\n",
    "%timeit res = cv.medianBlur(img, 49)"
   ]
  },
  {
   "attachments": {},
   "cell_type": "markdown",
   "metadata": {},
   "source": [
    "12.图像变换\n",
    "\n",
    "图片放大/旋转/平移等"
   ]
  },
  {
   "cell_type": "code",
   "execution_count": null,
   "metadata": {},
   "outputs": [],
   "source": [
    "# 放大并保存\n",
    "img = cv.imread(\"img/03.jpg\")\n",
    "print(\"放大前：\", img.shape)\n",
    "# 放大倍数 fx,fy\n",
    "res = cv.resize(img, None, fx=2, fy=2, interpolation=cv.INTER_CUBIC)\n",
    "print(\"放大后：\", res.shape)\n",
    "cv.imshow('res', res)\n",
    "c = cv.waitKey(0)\n",
    "if c==27 or c == ord('q'):\n",
    "    cv.destroyAllWindows()\n",
    "elif c==ord('s'):\n",
    "    cv.imwrite('img_scale.jpg', res)\n",
    "    cv.destroyAllWindows()"
   ]
  },
  {
   "cell_type": "code",
   "execution_count": null,
   "metadata": {},
   "outputs": [],
   "source": [
    "# 另一种方法\n",
    "height, width = img.shape[:2]\n",
    "res = cv.resize(img,(2*width, 2*height), interpolation = cv.INTER_CUBIC)"
   ]
  },
  {
   "cell_type": "code",
   "execution_count": null,
   "metadata": {},
   "outputs": [],
   "source": [
    "# 平移操作\n",
    "img = cv.imread(\"img/03.jpg\", 0)\n",
    "rows, cols = img.shape\n",
    "print(img.shape)\n",
    "# print(img)\n",
    "# print(rows)\n",
    "# print(img.shape[0])\n",
    "\n",
    "# [[1,0,move_x],[0,1,move_y]], 输出图片的尺寸：(width, height)\n",
    "# 针对灰度图片\n",
    "translation_M = np.float32([[1,0,100], [0,1,0]])\n",
    "img_move = cv.warpAffine(img, translation_M, (img.shape[1], img.shape[0]))\n",
    "\n",
    "cv.imshow('dst', img_move)\n",
    "cv.waitKey(0)\n",
    "cv.destroyAllWindows()"
   ]
  },
  {
   "cell_type": "code",
   "execution_count": null,
   "metadata": {},
   "outputs": [],
   "source": [
    "# 旋转操作\n",
    "img = cv.imread(\"img/03.jpg\", 0)\n",
    "rows, cols = img.shape\n",
    "# 正直为逆时针旋转\n",
    "rotation_M = cv.getRotationMatrix2D(((rows-1)/2, (cols-1)/2), 45, 1)\n",
    "rotation_img = cv.warpAffine(img, rotation_M, (cols, rows))\n",
    "\n",
    "cv.imshow('dst', rotation_img)\n",
    "cv.waitKey(0)\n",
    "cv.destroyAllWindows()"
   ]
  },
  {
   "attachments": {},
   "cell_type": "markdown",
   "metadata": {},
   "source": [
    "13.动态调节显示和位操作\n",
    "\n",
    "注意动态显示设置 waitkey(1),而非 0\n",
    "\n",
    "具体见 detect_img.py 的实现"
   ]
  },
  {
   "cell_type": "code",
   "execution_count": null,
   "metadata": {},
   "outputs": [],
   "source": [
    "def empty(a):\n",
    "    pass"
   ]
  },
  {
   "cell_type": "code",
   "execution_count": null,
   "metadata": {},
   "outputs": [],
   "source": [
    "def imgBGR2RGB(img):\n",
    "    img = cv.cvtColor(img, cv.COLOR_BGR2RGB)\n",
    "    return img"
   ]
  },
  {
   "cell_type": "code",
   "execution_count": null,
   "metadata": {},
   "outputs": [],
   "source": [
    "img = cv.imread(\"img/03.jpg\")\n",
    "img_HSV = cv.cvtColor(img, cv.COLOR_BGR2HSV)\n",
    "cv.namedWindow(\"example_windows\")\n",
    "cv.resizeWindow(\"example_windows\", 640, 240)\n",
    "cv.createTrackbar(\"hue_min\", \"example_windows\", 0, 179, empty)\n",
    "cv.createTrackbar(\"hue_max\", \"example_windows\", 179, 179, empty)\n",
    "cv.createTrackbar(\"sat_min\", \"example_windows\", 0, 255, empty)\n",
    "cv.createTrackbar(\"sat_max\", \"example_windows\", 255, 255, empty)\n",
    "cv.createTrackbar(\"val_min\", \"example_windows\", 0, 255, empty)\n",
    "cv.createTrackbar(\"val_max\", \"example_windows\", 255, 255, empty)\n",
    "\n",
    "\n",
    "while(1):\n",
    "    h_min = cv.getTrackbarPos(\"hue_min\", \"example_windows\")\n",
    "    s_min = cv.getTrackbarPos(\"sat_min\", \"example_windows\")\n",
    "    v_min = cv.getTrackbarPos(\"val_min\", \"example_windows\")\n",
    "    h_max = cv.getTrackbarPos(\"hue_max\", \"example_windows\")\n",
    "    s_max = cv.getTrackbarPos(\"sat_max\", \"example_windows\")\n",
    "    v_max = cv.getTrackbarPos(\"val_max\", \"example_windows\")\n",
    "    print(h_min, h_max, s_min, s_max, v_min, v_max)\n",
    "    lower_array = np.array([h_min, s_min, v_min])\n",
    "    upper_array = np.array([h_max, s_max, v_max])\n",
    "    mask = cv.inRange(img_HSV, lower_array, upper_array)\n",
    "    result_img = cv.bitwise_and(img, img, mask)\n",
    "\n",
    "    plt.subplot(131), plt.imshow(imgBGR2RGB(img_HSV)), plt.title(\"HSV\")\n",
    "    plt.subplot(132), plt.imshow(imgBGR2RGB(mask)), plt.title(\"mask\")\n",
    "    plt.subplot(133), plt.imshow(imgBGR2RGB(result_img)), plt.title(\"result_img\")\n",
    "    # cv.imshow(\"HSV\", img_HSV)\n",
    "    # cv.imshow(\"mask\", mask)\n",
    "    # cv.imshow(\"mask_img\", result_img)\n",
    "    k = cv.waitKey(1) # 注意使用 1，而非0,可以实时改变\n",
    "    if k == \"q\":\n",
    "        break\n",
    "cv.destroyAllWindows()"
   ]
  },
  {
   "cell_type": "code",
   "execution_count": null,
   "metadata": {},
   "outputs": [],
   "source": [
    "# 图片排版\n",
    "img01 = cv.imread(\"img/01.jpg\")\n",
    "img02 = cv.imread(\"img/02.jpg\")\n",
    "img03 = cv.imread(\"img/03.jpg\")\n",
    "\n",
    "\n",
    "plt.subplot(131), plt.imshow(imgBGR2RGB(img01)), plt.title(\"img01\")\n",
    "plt.subplot(132), plt.imshow(imgBGR2RGB(img02)), plt.title(\"img02\")\n",
    "plt.subplot(133), plt.imshow(imgBGR2RGB(img03)), plt.title(\"img03\")\n",
    "\n",
    "plt.show()\n"
   ]
  },
  {
   "attachments": {},
   "cell_type": "markdown",
   "metadata": {},
   "source": [
    "14.图像二值化"
   ]
  },
  {
   "cell_type": "code",
   "execution_count": null,
   "metadata": {},
   "outputs": [],
   "source": [
    "# 自适应阈值设定\n",
    "img_gray = cv.imread(\"img/03.jpg\", 0)\n",
    "# ret, img = cv.threshold(img_gray, 150, 255, cv.THRESH_BINARY)\n",
    "# 像素数19×19-奇数，常数 C=9\n",
    "img_threshold = cv.adaptiveThreshold(img_gray, 255,  cv.ADAPTIVE_THRESH_GAUSSIAN_C, cv.THRESH_BINARY, 21, 2)\n",
    "cv.imshow(\"threshold image\", img_threshold)\n",
    "\n",
    "cv.waitKey(0)\n",
    "cv.destroyAllWindows()"
   ]
  },
  {
   "cell_type": "code",
   "execution_count": null,
   "metadata": {},
   "outputs": [],
   "source": [
    "img = cv.imread('img/03.jpg',0)\n",
    "ret,thresh1 = cv.threshold(img,127,255,cv.THRESH_BINARY)\n",
    "ret,thresh2 = cv.threshold(img,127,255,cv.THRESH_BINARY_INV)\n",
    "ret,thresh3 = cv.threshold(img,127,255,cv.THRESH_TRUNC)\n",
    "ret,thresh4 = cv.threshold(img,127,255,cv.THRESH_TOZERO)\n",
    "ret,thresh5 = cv.threshold(img,127,255,cv.THRESH_TOZERO_INV)\n",
    "titles = ['Original Image','BINARY','BINARY_INV','TRUNC','TOZERO','TOZERO_INV']\n",
    "images = [img, thresh1, thresh2, thresh3, thresh4, thresh5]\n",
    "for i in range(6):\n",
    "    plt.subplot(2,3,i+1),plt.imshow(images[i],'gray')\n",
    "    plt.title(titles[i])\n",
    "    plt.xticks([]),plt.yticks([])\n",
    "plt.show()"
   ]
  },
  {
   "attachments": {},
   "cell_type": "markdown",
   "metadata": {},
   "source": [
    "15.形状和向量检测"
   ]
  },
  {
   "cell_type": "code",
   "execution_count": null,
   "metadata": {},
   "outputs": [],
   "source": [
    "img = cv.imread(\"img/03.jpg\")\n",
    "img_blur1 = cv.GaussianBlur(img, (7,7), 1)\n",
    "img_blur5 = cv.GaussianBlur(img, (7,7), 5)\n",
    "stack_img = stackImages(1.2, ([img, img_blur1, img_blur5]))\n",
    "cv.imshow(\"all_image\", stack_img)\n",
    "cv.waitKey(0)"
   ]
  },
  {
   "cell_type": "code",
   "execution_count": null,
   "metadata": {},
   "outputs": [],
   "source": [
    "# 简单阈值设定\n",
    "img = cv.imread(\"img/03.jpg\")\n",
    "img_gray = cv.cvtColor(img, cv.COLOR_BGR2GRAY)\n",
    "\n",
    "# ret, img = cv.threshold(img_gray, 150, 255, cv.THRESH_BINARY)\n",
    "ret, img_threshold = cv.threshold(img_gray, 100, 255, 0)\n",
    "cv.imshow(\"threshold image\", img_threshold)\n",
    "contours, hierarchy = cv.findContours(img_threshold, cv.RETR_TREE, cv.CHAIN_APPROX_SIMPLE)\n",
    "# contours, hierarchy = cv.findContours(img_threshold, cv.RETR_TREE, cv.CHAIN_APPROX_NONE)\n",
    "\n",
    "# contours=-1表示绘制所有的轮廓\n",
    "cv.drawContours(img, contours, -1, (0,255,0), 1)\n",
    "\n",
    "# 绘制单独的轮廓 2 种方法\n",
    "# cv.drawContours(img, contours, 3, (0,255,0), 1)\n",
    "# cnt = contours[4]\n",
    "# cv.drawContours(img, [cnt], 0, (0, 255, 0), 1)\n",
    "\n",
    "cv.imshow(\"img\", img)\n",
    "cv.waitKey(0)\n",
    "cv.destroyAllWindows()"
   ]
  },
  {
   "attachments": {},
   "cell_type": "markdown",
   "metadata": {},
   "source": [
    "16.轮廓特性"
   ]
  },
  {
   "cell_type": "code",
   "execution_count": null,
   "metadata": {},
   "outputs": [],
   "source": [
    "# 简单阈值设定\n",
    "img = cv.imread(\"img/03.jpg\")\n",
    "img_gray = cv.cvtColor(img, cv.COLOR_BGR2GRAY)\n",
    "\n",
    "ret, img_threshold = cv.threshold(img_gray, 100, 255, 0)\n",
    "contours, hierarchy = cv.findContours(img_threshold, cv.RETR_TREE, cv.CHAIN_APPROX_SIMPLE)\n",
    "\n",
    "for cnt in contours:\n",
    "    area = cv.contourArea(cnt)\n",
    "    print(area)\n",
    "    if area > 10 and area < 1000:\n",
    "        rec = cv.minAreaRect(cnt)\n",
    "        # print(\"min_A:\", rec)\n",
    "        box = cv.boxPoints(rec)\n",
    "        box = np.intp(box)\n",
    "        cv.drawContours(img, [box], 0, (0, 0, 255), 1)\n",
    "cv.imshow(\"img\", img)\n",
    "cv.waitKey(0)\n",
    "cv.destroyAllWindows()\n",
    "\n",
    "\n",
    "#  center (x,y), (width, height), angle of rotation"
   ]
  },
  {
   "cell_type": "code",
   "execution_count": null,
   "metadata": {},
   "outputs": [],
   "source": [
    "# 圆形\n",
    "img = cv.imread(\"img/03.jpg\")\n",
    "img_gray = cv.cvtColor(img, cv.COLOR_BGR2GRAY)\n",
    "\n",
    "ret, img_threshold = cv.threshold(img_gray, 100, 255, 0)\n",
    "contours, hierarchy = cv.findContours(img_threshold, cv.RETR_TREE, cv.CHAIN_APPROX_SIMPLE)\n",
    "\n",
    "cnt = contours[30]\n",
    "(x,y),radius = cv.minEnclosingCircle(cnt)\n",
    "center = (int(x),int(y))\n",
    "radius = int(radius)\n",
    "cv.circle(img,center,radius,(0,255,0),1)\n",
    "\n",
    "cv.imshow(\"img\", img)\n",
    "cv.waitKey(0)\n",
    "cv.destroyAllWindows()"
   ]
  },
  {
   "cell_type": "code",
   "execution_count": null,
   "metadata": {},
   "outputs": [],
   "source": [
    "# 椭圆形\n",
    "img = cv.imread(\"img/03.jpg\")\n",
    "img_gray = cv.cvtColor(img, cv.COLOR_BGR2GRAY)\n",
    "\n",
    "ret, img_threshold = cv.threshold(img_gray, 100, 255, 0)\n",
    "contours, hierarchy = cv.findContours(img_threshold, cv.RETR_TREE, cv.CHAIN_APPROX_SIMPLE)\n",
    "\n",
    "cnt = contours[30]\n",
    "ellipse = cv.fitEllipse(cnt)\n",
    "cv.ellipse(img, ellipse, (0, 0, 255), 1)\n",
    "\n",
    "cv.imshow(\"img\", img)\n",
    "cv.waitKey(0)\n",
    "cv.destroyAllWindows()"
   ]
  },
  {
   "cell_type": "code",
   "execution_count": null,
   "metadata": {},
   "outputs": [],
   "source": [
    "# 计算所有的矩\n",
    "# 空间矩 m :00;01,10;02,11,20;03,12,21,30\n",
    "# 1+2+3+4=10\n",
    "# 中心距 mu:20,11,02,30,21,12,03->7\n",
    "# 归一化中心距nu: 20,11,02,30,21,12,03->7\n",
    "M = cv.moments(cnt)\n",
    "print(M)\n",
    "count = 0\n",
    "for i in M.values():\n",
    "    count += 1\n",
    "print(count)"
   ]
  },
  {
   "cell_type": "code",
   "execution_count": null,
   "metadata": {},
   "outputs": [],
   "source": [
    "def getContours(img_gray):\n",
    "    contours, hierarchy = cv.findContours(img_gray, cv.RETR_EXTERNAL, cv.CHAIN_APPROX_SIMPLE)\n",
    "    for cnt in contours:\n",
    "        area = cv.contourArea(cnt)\n",
    "        # print(area)\n",
    "        if area > 50:\n",
    "            cv.drawContours(img, cnt, -1, (255,0,0), 1)\n",
    "            # 轮廓弧长，参数2：受否是封闭的或仅仅是一个曲线\n",
    "            peri = cv.arcLength(cnt, True)\n",
    "            # 估计轮廓形状\n",
    "            approx = cv.approxPolyDP(cnt, 0.02*peri, True)\n",
    "            # print(approx)\n",
    "            objCor = len(approx)\n",
    "            # print(objCor)\n",
    "            x, y, w, h = cv.boundingRect(approx)\n",
    "            if objCor == 3:\n",
    "                objectType = \"Tri\"\n",
    "            elif objCor == 4:\n",
    "                # 长宽比判定\n",
    "                aspRatio = w / float(h)\n",
    "                if aspRatio > 0.98 and aspRatio < 1.03:\n",
    "                    objectType = \"Square\"\n",
    "                else:\n",
    "                    objectType = \"Circles\"\n",
    "            elif objCor > 4:\n",
    "                objectType = \"Circles\"\n",
    "            else:\n",
    "                objectType = \"None\"\n",
    "\n",
    "            cv.rectangle(img, (x, y), (x+w, y+h), (0, 255, 0), 1)\n",
    "            # cv.putText(img, objectType,\n",
    "            #             (x+(w//2)-10,y+(h//2)-10),cv.FONT_HERSHEY_COMPLEX,0.7,\n",
    "            #             (0,0,0),2)\n",
    "\n",
    "            \n",
    "\n",
    "img = cv.imread(\"img/03.jpg\")\n",
    "img_gray = cv.cvtColor(img, cv.COLOR_BGR2GRAY)\n",
    "# img_Contour = img.copy()\n",
    "\n",
    "img_blur1 = cv.GaussianBlur(img, (7,7), 1)\n",
    "img_blur5 = cv.GaussianBlur(img, (7,7), 5)\n",
    "img_canny = cv.Canny(img, 50, 50)\n",
    "img_canny_ref = cv.Canny(img, 100, 100)\n",
    "\n",
    "# ret, img_threshold = cv.threshold(img_gray, 150, 255, cv.THRESH_BINARY)\n",
    "ret, img_threshold = cv.threshold(img_gray, 150, 255, 0)\n",
    "# 创建空白图片-全黑型\n",
    "# img_black = np.ones_like(img)\n",
    "# img_white = np.zeros_like(img)\n",
    "\n",
    "# getContours(img_threshold)\n",
    "getContours(img_canny)\n",
    "\n",
    "stack_img = stackImages(1.2, ([img, img_blur1, img_blur5], [img_gray, img_canny, img_threshold]))\n",
    "\n",
    "cv.imshow(\"all_image\", stack_img)\n",
    "cv.waitKey(0)"
   ]
  },
  {
   "cell_type": "code",
   "execution_count": 87,
   "metadata": {},
   "outputs": [
    {
     "name": "stdout",
     "output_type": "stream",
     "text": [
      "[[[ 60 124]]]\n",
      "[[[4371 2879]]]\n",
      "0.0\n"
     ]
    }
   ],
   "source": [
    "# 形状是否接近\n",
    "img1 = cv.imread(\"img/03.jpg\",0)\n",
    "img2 = cv.imread(\"img/02.jpg\",0)\n",
    "ret, thresh = cv.threshold(img1, 127, 255,0)\n",
    "ret, thresh2 = cv.threshold(img2, 127, 255,0)\n",
    "contours,hierarchy = cv.findContours(thresh,2,1)\n",
    "# print(contours)\n",
    "cnt1 = contours[0]\n",
    "print(cnt1)\n",
    "contours,hierarchy = cv.findContours(thresh2,2,1)\n",
    "cnt2 = contours[0]\n",
    "print(cnt2)\n",
    "ret = cv.matchShapes(cnt1,cnt2,1,0.0)\n",
    "print( ret )"
   ]
  },
  {
   "attachments": {},
   "cell_type": "markdown",
   "metadata": {},
   "source": [
    "17.人脸识别\n",
    "\n",
    "使用传统  [Haar Cascade xml 文件](https://github.com/opencv/opencv/tree/master/data/haarcascades) 方法\n",
    "进行识别\n",
    "\n",
    "detectMultiScale(image, scaleFactor, minNeighbors);\n",
    "\n",
    "image:待处理的图像\n",
    "\n",
    "scaleFactor：检测框的最小尺寸\n",
    "\n",
    "minNeighbors：相当于检测的阈值，过小会出现误检现象，即把一些其他元素误判成人脸，过大可能会检测不到目标"
   ]
  },
  {
   "cell_type": "code",
   "execution_count": 88,
   "metadata": {},
   "outputs": [
    {
     "data": {
      "text/plain": [
       "-1"
      ]
     },
     "execution_count": 88,
     "metadata": {},
     "output_type": "execute_result"
    }
   ],
   "source": [
    "# 加载 xml 文件\n",
    "faceCascade = cv.CascadeClassifier(\"res/haarcascade_frontalface_default.xml\")\n",
    "# faceCascade = cv.CascadeClassifier(\"res/haarcascade_eye.xml\")\n",
    "img = cv.imread('img/03.jpg')\n",
    "imgGray = cv.cvtColor(img, cv.COLOR_BGR2GRAY)\n",
    "\n",
    "# 函数返回值 (x,y,w,h)\n",
    "faces = faceCascade.detectMultiScale(imgGray, 1.1, 1)\n",
    "\n",
    "for (x, y, w, h) in faces:\n",
    "    cv.rectangle(img, (x, y), (x+w, y+h), (255, 0, 0), 2)\n",
    "\n",
    "cv.imshow(\"resimage\", img)\n",
    "cv.waitKey(0)"
   ]
  }
 ],
 "metadata": {
  "kernelspec": {
   "display_name": "Python 3",
   "language": "python",
   "name": "python3"
  },
  "language_info": {
   "codemirror_mode": {
    "name": "ipython",
    "version": 3
   },
   "file_extension": ".py",
   "mimetype": "text/x-python",
   "name": "python",
   "nbconvert_exporter": "python",
   "pygments_lexer": "ipython3",
   "version": "3.8.16"
  },
  "orig_nbformat": 4
 },
 "nbformat": 4,
 "nbformat_minor": 2
}
