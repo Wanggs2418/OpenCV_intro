{
 "cells": [
  {
   "cell_type": "code",
   "execution_count": 14,
   "metadata": {},
   "outputs": [
    {
     "name": "stdout",
     "output_type": "stream",
     "text": [
      "4.7.0\n"
     ]
    }
   ],
   "source": [
    "import cv2 as cv\n",
    "import numpy as np\n",
    "import matplotlib.pyplot as plt\n",
    "print( cv.__version__ )"
   ]
  },
  {
   "attachments": {},
   "cell_type": "markdown",
   "metadata": {},
   "source": [
    "1.显示图片"
   ]
  },
  {
   "cell_type": "code",
   "execution_count": 7,
   "metadata": {},
   "outputs": [],
   "source": [
    "img = cv.imread(\"img/01.jpg\", 0)\n",
    "cv.imshow(\"输出的图片\", img)\n",
    "# cv.waitKey(10000)\n",
    "c = cv.waitKey(0)\n",
    "if c==27 or c == ord('q'):\n",
    "    cv.destroyAllWindows()\n",
    "elif c==ord('s'):\n",
    "    cv.imwrite('other_save.png', img)\n",
    "    cv.destroyAllWindows()"
   ]
  },
  {
   "attachments": {},
   "cell_type": "markdown",
   "metadata": {},
   "source": [
    "2.显示视频"
   ]
  },
  {
   "cell_type": "code",
   "execution_count": 9,
   "metadata": {},
   "outputs": [],
   "source": [
    "framewidth = 640\n",
    "frameheight = 480\n",
    "fps = 100 # 设置帧率\n",
    "\n",
    "# 其中propId是0到18之间的一个数字。每个数字表示视频的属性\n",
    "# cap.set(propID, value)\n",
    "\n",
    "# cap = cv2.VideoCapture(\"video/test01.avi\")\n",
    "cap = cv.VideoCapture(0, cv.CAP_DSHOW)\n",
    "cap.set(cv.CAP_PROP_FRAME_WIDTH, framewidth) #id-3\n",
    "cap.set(cv.CAP_PROP_FRAME_HEIGHT, frameheight) #id-4\n",
    "cap.set(cv.CAP_PROP_FPS, fps) #id-5\n",
    "cap.set(cv.CAP_PROP_BRIGHTNESS, 1) #id-10\n",
    "\n",
    "if not cap.isOpened():\n",
    "    print(\"无法打开摄像头！\")\n",
    "    exit()\n",
    "while True:\n",
    "    success, img = cap.read()\n",
    "    if not success:\n",
    "        print(\"不能读取视频帧!\")\n",
    "        break\n",
    "    cv.imshow(\"video\", img)\n",
    "    # gray = cv.cvtColor(img, cv.COLOR_BGR2GRAY)\n",
    "    # cv.imshow(\"gray\", gray)\n",
    "    if cv.waitKey(1) & 0xFF == ord('q'):\n",
    "        break\n",
    "cap.release()\n",
    "cv.destroyAllWindows()"
   ]
  },
  {
   "cell_type": "code",
   "execution_count": 11,
   "metadata": {},
   "outputs": [],
   "source": [
    "# example\n",
    "import numpy as np\n",
    "import cv2 as cv\n",
    "cap = cv.VideoCapture(0)\n",
    "# Define the codec and create VideoWriter object\n",
    "fourcc = cv.VideoWriter_fourcc(*'XVID')\n",
    "out = cv.VideoWriter('output.avi', fourcc, 20.0, (640,  480))\n",
    "while cap.isOpened():\n",
    "    ret, frame = cap.read()\n",
    "    if not ret:\n",
    "        print(\"Can't receive frame (stream end?). Exiting ...\")\n",
    "        break\n",
    "    # frame = cv.flip(frame, 0)\n",
    "    # write the flipped frame\n",
    "    out.write(frame)\n",
    "    cv.imshow('frame', frame)\n",
    "    if cv.waitKey(1) == ord('q'):\n",
    "        break\n",
    "# Release everything if job is finished\n",
    "cap.release()\n",
    "out.release()\n",
    "cv.destroyAllWindows()"
   ]
  },
  {
   "attachments": {},
   "cell_type": "markdown",
   "metadata": {},
   "source": [
    "3.色彩转换"
   ]
  },
  {
   "cell_type": "code",
   "execution_count": 16,
   "metadata": {},
   "outputs": [],
   "source": [
    "kernel = np.ones((5, 5), np.uint8)\n",
    "img = cv.imread(\"img/03.jpg\")\n",
    "\n",
    "img_gray = cv.cvtColor(img, cv.COLOR_BGR2GRAY)\n",
    "img_blur = cv.GaussianBlur(img, (7, 7), 0)\n",
    "img_canny = cv.Canny(img, 150, 200) # 边缘检测\n",
    "img_dilation = cv.dilate(img_gray, kernel, iterations=1) # 迭代一次\n",
    "img_erode = cv.erode(img_gray, kernel, iterations=1) # 迭代一次\n",
    "\n",
    "# cv.imshow(\"name01\", img_gray)\n",
    "# cv.imshow(\"blur\", img_blur)\n",
    "cv.imshow(\"canny\", img_canny)\n",
    "cv.imshow(\"canny_dilation\", img_dilation)\n",
    "cv.imshow(\"canny_erode\", img_erode)\n",
    "\n",
    "c = cv.waitKey(0)\n",
    "cv.destroyAllWindows()"
   ]
  }
 ],
 "metadata": {
  "kernelspec": {
   "display_name": "Python 3",
   "language": "python",
   "name": "python3"
  },
  "language_info": {
   "codemirror_mode": {
    "name": "ipython",
    "version": 3
   },
   "file_extension": ".py",
   "mimetype": "text/x-python",
   "name": "python",
   "nbconvert_exporter": "python",
   "pygments_lexer": "ipython3",
   "version": "3.8.16"
  },
  "orig_nbformat": 4
 },
 "nbformat": 4,
 "nbformat_minor": 2
}
