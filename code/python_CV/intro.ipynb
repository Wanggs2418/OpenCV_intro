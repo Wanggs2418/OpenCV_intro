{
 "cells": [
  {
   "cell_type": "code",
   "execution_count": 1,
   "metadata": {},
   "outputs": [
    {
     "name": "stdout",
     "output_type": "stream",
     "text": [
      "4.7.0\n"
     ]
    }
   ],
   "source": [
    "import cv2 as cv\n",
    "import numpy as np\n",
    "import matplotlib.pyplot as plt\n",
    "print( cv.__version__ )"
   ]
  },
  {
   "attachments": {},
   "cell_type": "markdown",
   "metadata": {},
   "source": [
    "1.显示图片"
   ]
  },
  {
   "cell_type": "code",
   "execution_count": 3,
   "metadata": {},
   "outputs": [],
   "source": [
    "img = cv.imread(\"img/01.jpg\", 0)"
   ]
  },
  {
   "cell_type": "code",
   "execution_count": 10,
   "metadata": {},
   "outputs": [],
   "source": [
    "img = cv.imread(\"img/01.jpg\", 0)\n",
    "cv.imshow(\"输出的图片\", img)\n",
    "# cv.waitKey(10000)\n",
    "c = cv.waitKey(0)\n",
    "if c==27 or c == ord('q'):\n",
    "    cv.destroyAllWindows()\n",
    "elif c==ord('s'):\n",
    "    cv.imwrite('other_save.png', img)\n",
    "    cv.destroyAllWindows()"
   ]
  },
  {
   "attachments": {},
   "cell_type": "markdown",
   "metadata": {},
   "source": [
    "2.显示视频"
   ]
  },
  {
   "cell_type": "code",
   "execution_count": null,
   "metadata": {},
   "outputs": [],
   "source": [
    "framewidth = 640\n",
    "frameheight = 480\n",
    "fps = 100 # 设置帧率\n",
    "\n",
    "# 其中propId是0到18之间的一个数字。每个数字表示视频的属性\n",
    "# cap.set(propID, value)\n",
    "\n",
    "# cap = cv2.VideoCapture(\"video/test01.avi\")\n",
    "cap = cv.VideoCapture(0, cv.CAP_DSHOW)\n",
    "cap.set(cv.CAP_PROP_FRAME_WIDTH, framewidth) #id-3\n",
    "cap.set(cv.CAP_PROP_FRAME_HEIGHT, frameheight) #id-4\n",
    "cap.set(cv.CAP_PROP_FPS, fps) #id-5\n",
    "cap.set(cv.CAP_PROP_BRIGHTNESS, 1) #id-10\n",
    "\n",
    "if not cap.isOpened():\n",
    "    print(\"无法打开摄像头！\")\n",
    "    exit()\n",
    "while True:\n",
    "    success, img = cap.read()\n",
    "    if not success:\n",
    "        print(\"不能读取视频帧!\")\n",
    "        break\n",
    "    cv.imshow(\"video\", img)\n",
    "    # gray = cv.cvtColor(img, cv.COLOR_BGR2GRAY)\n",
    "    # cv.imshow(\"gray\", gray)\n",
    "    if cv.waitKey(1) & 0xFF == ord('q'):\n",
    "        break\n",
    "cap.release()\n",
    "cv.destroyAllWindows()"
   ]
  },
  {
   "cell_type": "code",
   "execution_count": null,
   "metadata": {},
   "outputs": [],
   "source": [
    "# example\n",
    "import numpy as np\n",
    "import cv2 as cv\n",
    "cap = cv.VideoCapture(0)\n",
    "# Define the codec and create VideoWriter object\n",
    "fourcc = cv.VideoWriter_fourcc(*'XVID')\n",
    "out = cv.VideoWriter('output.avi', fourcc, 20.0, (640,  480))\n",
    "while cap.isOpened():\n",
    "    ret, frame = cap.read()\n",
    "    if not ret:\n",
    "        print(\"Can't receive frame (stream end?). Exiting ...\")\n",
    "        break\n",
    "    # frame = cv.flip(frame, 0)\n",
    "    # write the flipped frame\n",
    "    out.write(frame)\n",
    "    cv.imshow('frame', frame)\n",
    "    if cv.waitKey(1) == ord('q'):\n",
    "        break\n",
    "# Release everything if job is finished\n",
    "cap.release()\n",
    "out.release()\n",
    "cv.destroyAllWindows()"
   ]
  },
  {
   "attachments": {},
   "cell_type": "markdown",
   "metadata": {},
   "source": [
    "3.色彩转换"
   ]
  },
  {
   "cell_type": "code",
   "execution_count": null,
   "metadata": {},
   "outputs": [],
   "source": [
    "kernel = np.ones((5, 5), np.uint8)\n",
    "img = cv.imread(\"img/03.jpg\")\n",
    "\n",
    "img_gray = cv.cvtColor(img, cv.COLOR_BGR2GRAY)\n",
    "img_blur = cv.GaussianBlur(img, (7, 7), 0)\n",
    "img_canny = cv.Canny(img, 150, 200) # 边缘检测\n",
    "img_dilation = cv.dilate(img_gray, kernel, iterations=1) # 迭代一次\n",
    "img_erode = cv.erode(img_gray, kernel, iterations=1) # 迭代一次\n",
    "\n",
    "# cv.imshow(\"name01\", img_gray)\n",
    "# cv.imshow(\"blur\", img_blur)\n",
    "cv.imshow(\"canny\", img_canny)\n",
    "cv.imshow(\"canny_dilation\", img_dilation)\n",
    "cv.imshow(\"canny_erode\", img_erode)\n",
    "\n",
    "c = cv.waitKey(0)\n",
    "cv.destroyAllWindows()"
   ]
  },
  {
   "attachments": {},
   "cell_type": "markdown",
   "metadata": {},
   "source": [
    "4.尺寸变换"
   ]
  },
  {
   "cell_type": "code",
   "execution_count": null,
   "metadata": {},
   "outputs": [],
   "source": [
    "img = cv.imread(\"img/01.jpg\")\n",
    "print(img)\n",
    "print(img.shape)"
   ]
  },
  {
   "cell_type": "code",
   "execution_count": 3,
   "metadata": {},
   "outputs": [],
   "source": [
    "# 只是更改显示的尺寸\n",
    "img_resize = cv.resize(img, (300, 480))\n",
    "cv.imshow(\"Image\", img)\n",
    "cv.imshow(\"Image_resize\", img_resize)\n",
    "cv.waitKey(0)\n",
    "cv.destroyAllWindows()"
   ]
  },
  {
   "cell_type": "code",
   "execution_count": 7,
   "metadata": {},
   "outputs": [],
   "source": [
    "# 裁剪\n",
    "img_cropped = img[0:500, 1000:1200]\n",
    "cv.imwrite(\"crop_500_200.jpg\", img_cropped)\n",
    "cv.imshow(\"裁剪:\", img_cropped)\n",
    "cv.waitKey(0)\n",
    "cv.destroyAllWindows()"
   ]
  },
  {
   "attachments": {},
   "cell_type": "markdown",
   "metadata": {},
   "source": [
    "5.绘制图像"
   ]
  },
  {
   "cell_type": "code",
   "execution_count": 13,
   "metadata": {},
   "outputs": [
    {
     "name": "stdout",
     "output_type": "stream",
     "text": [
      "(512, 500, 3)\n"
     ]
    }
   ],
   "source": [
    "# [0, 256)\n",
    "img = np.random.randint(0, 256, (512, 500, 3), dtype=np.uint8)\n",
    "img[:] = 255, 255, 1\n",
    "# img = cv.imread(\"img/01.jpg\")\n",
    "print(img.shape)\n",
    "# print(img[0][0])\n",
    "\n",
    "# 定义线，起点；终点；颜色; 粗细\n",
    "# img.shape=(高， 宽)\n",
    "cv.line(img, (0,0), (img.shape[0], img.shape[1]), (0, 0, 255), 1)\n",
    "cv.putText(img, \"demo_test\", (100, 100), cv.FONT_HERSHEY_COMPLEX, 1, (255, 0, 0), 1)\n",
    "\n",
    "cv.imshow(\"define_image\", img)\n",
    "cv.waitKey(0)\n",
    "\n",
    "cv.destroyAllWindows()"
   ]
  },
  {
   "attachments": {},
   "cell_type": "markdown",
   "metadata": {},
   "source": [
    "6.透视变换"
   ]
  },
  {
   "cell_type": "code",
   "execution_count": null,
   "metadata": {},
   "outputs": [],
   "source": []
  },
  {
   "attachments": {},
   "cell_type": "markdown",
   "metadata": {},
   "source": [
    "7.堆叠"
   ]
  },
  {
   "cell_type": "code",
   "execution_count": 10,
   "metadata": {},
   "outputs": [],
   "source": [
    "img = cv.imread(\"img/03.jpg\")\n",
    "hor = np.hstack((img, img))\n",
    "cv.imshow(\"hor\", hor)\n",
    "cv.waitKey(0)\n",
    "cv.destroyAllWindows()"
   ]
  },
  {
   "attachments": {},
   "cell_type": "markdown",
   "metadata": {},
   "source": [
    "8.鼠标操作"
   ]
  },
  {
   "cell_type": "code",
   "execution_count": 4,
   "metadata": {},
   "outputs": [
    {
     "name": "stdout",
     "output_type": "stream",
     "text": [
      "['EVENT_FLAG_ALTKEY', 'EVENT_FLAG_CTRLKEY', 'EVENT_FLAG_LBUTTON', 'EVENT_FLAG_MBUTTON', 'EVENT_FLAG_RBUTTON', 'EVENT_FLAG_SHIFTKEY', 'EVENT_LBUTTONDBLCLK', 'EVENT_LBUTTONDOWN', 'EVENT_LBUTTONUP', 'EVENT_MBUTTONDBLCLK', 'EVENT_MBUTTONDOWN', 'EVENT_MBUTTONUP', 'EVENT_MOUSEHWHEEL', 'EVENT_MOUSEMOVE', 'EVENT_MOUSEWHEEL', 'EVENT_RBUTTONDBLCLK', 'EVENT_RBUTTONDOWN', 'EVENT_RBUTTONUP']\n"
     ]
    }
   ],
   "source": [
    "events = [i for i in dir(cv) if 'EVENT' in i]\n",
    "print( events )"
   ]
  },
  {
   "attachments": {},
   "cell_type": "markdown",
   "metadata": {},
   "source": [
    "9.基本操作"
   ]
  },
  {
   "cell_type": "code",
   "execution_count": 18,
   "metadata": {},
   "outputs": [
    {
     "name": "stdout",
     "output_type": "stream",
     "text": [
      "[ 32 137  56]\n",
      "blue elemnet value is:  32\n"
     ]
    }
   ],
   "source": [
    "img = cv.imread(\"img/01.jpg\")\n",
    "px = img[100, 100] # 一个彩色单元的内容\n",
    "print(px)\n",
    "px_value = img[100, 100, 0] # BGR格式，对应0-B,1-G,2-R\n",
    "print(\"blue elemnet value is: \", px_value)"
   ]
  },
  {
   "cell_type": "code",
   "execution_count": 19,
   "metadata": {},
   "outputs": [
    {
     "name": "stdout",
     "output_type": "stream",
     "text": [
      "32\n",
      "120\n"
     ]
    }
   ],
   "source": [
    "# 借助 item 访问\n",
    "px = img.item(100, 100, 0)\n",
    "print(px)\n",
    "# 重新设置相关的值\n",
    "new_px = img.itemset((100, 100, 0), 120)\n",
    "px_modify = img.item(100, 100, 0)\n",
    "print(px_modify)"
   ]
  },
  {
   "cell_type": "code",
   "execution_count": 20,
   "metadata": {},
   "outputs": [
    {
     "name": "stdout",
     "output_type": "stream",
     "text": [
      "(1440, 1920, 3)\n",
      "uint8\n",
      "8294400\n"
     ]
    }
   ],
   "source": [
    "# 访问属性\n",
    "# img = cv.imread(\"img/01.jpg\", 0)\n",
    "print(img.shape)\n",
    "print(img.dtype)\n",
    "print(img.size)\n",
    "# print(1440*1920*3), imgsize 为总数相乘"
   ]
  },
  {
   "cell_type": "code",
   "execution_count": 40,
   "metadata": {},
   "outputs": [
    {
     "name": "stdout",
     "output_type": "stream",
     "text": [
      "(280, 450, 3)\n"
     ]
    }
   ],
   "source": [
    "# print(340-280, 333-273)\n",
    "# 图片分割,将图中的足球分割出来\n",
    "img = cv.imread(\"img/roi_test.jpg\")\n",
    "print(img.shape) # 输出高，宽\n",
    "ball = img[220:280, 330:390]\n",
    "# print(ball)\n",
    "img[213:273, 85:145] = ball\n",
    "\n",
    "cv.imshow('a', img)\n",
    "cv.waitKey(0)\n",
    "cv.destroyAllWindows()"
   ]
  },
  {
   "cell_type": "code",
   "execution_count": 48,
   "metadata": {},
   "outputs": [],
   "source": [
    "# 通道数的分离和合并\n",
    "b,g,r = cv.split(img)\n",
    "img = cv.merge((b,g,r))\n",
    "# 或采用切片操作\n",
    "b = img[:, :, 0]\n",
    "\n",
    "# 使得B 和 R通道为0\n",
    "img[:,:,2] = 0\n",
    "img[:,:,0] = 0\n",
    "\n",
    "cv.imshow('a', img)\n",
    "cv.waitKey(0)\n",
    "cv.destroyAllWindows()"
   ]
  },
  {
   "cell_type": "code",
   "execution_count": 52,
   "metadata": {},
   "outputs": [
    {
     "data": {
      "image/png": "[encoded data removed]",
      "text/plain": [
       "<Figure size 640x480 with 6 Axes>"
      ]
     },
     "metadata": {},
     "output_type": "display_data"
    }
   ],
   "source": [
    "# 边界填充\n",
    "BLUE = [255,0,0]\n",
    "img = cv.imread(\"img/03.jpg\")\n",
    "# (src, top, bottom, left, right, bodertype)\n",
    "replicate = cv.copyMakeBorder(img,10,10,10,10,cv.BORDER_REPLICATE)\n",
    "reflect = cv.copyMakeBorder(img,10,10,10,10,cv.BORDER_REFLECT)\n",
    "reflect101 = cv.copyMakeBorder(img,10,10,10,10,cv.BORDER_REFLECT_101)\n",
    "wrap = cv.copyMakeBorder(img,10,10,10,10,cv.BORDER_WRAP)\n",
    "constant= cv.copyMakeBorder(img,10,10,10,10,cv.BORDER_CONSTANT,value=BLUE)\n",
    "\n",
    "\n",
    "plt.subplot(231),plt.imshow(img,'gray'),plt.title('ORIGINAL')\n",
    "plt.subplot(232),plt.imshow(replicate,'gray'),plt.title('REPLICATE')\n",
    "plt.subplot(233),plt.imshow(reflect,'gray'),plt.title('REFLECT')\n",
    "plt.subplot(234),plt.imshow(reflect101,'gray'),plt.title('REFLECT_101')\n",
    "plt.subplot(235),plt.imshow(wrap,'gray'),plt.title('WRAP')\n",
    "plt.subplot(236),plt.imshow(constant,'gray'),plt.title('CONSTANT')\n",
    "\n",
    "plt.show()"
   ]
  },
  {
   "attachments": {},
   "cell_type": "markdown",
   "metadata": {},
   "source": [
    "10.几何操作 "
   ]
  },
  {
   "cell_type": "code",
   "execution_count": 59,
   "metadata": {},
   "outputs": [
    {
     "name": "stdout",
     "output_type": "stream",
     "text": [
      "[250]\n",
      "[10]\n",
      "saturated [[255]]\n",
      "modulo [4]\n"
     ]
    }
   ],
   "source": [
    "# modulo operation 和 saturated operation\n",
    "x = np.uint8([250])\n",
    "y = np.uint8([10])\n",
    "\n",
    "print(x)\n",
    "print(y)\n",
    "\n",
    "print(\"saturated\", cv.add(x, y))\n",
    "print(\"modulo\", x + y)"
   ]
  },
  {
   "cell_type": "code",
   "execution_count": 66,
   "metadata": {},
   "outputs": [
    {
     "name": "stdout",
     "output_type": "stream",
     "text": [
      "(1440, 1920, 3)\n",
      "(2880, 5120, 3)\n"
     ]
    }
   ],
   "source": [
    "# 图片融合操作\n",
    "img1 = cv.imread(\"img/01.jpg\")\n",
    "print(img1.shape)\n",
    "img2 = cv.imread(\"img/02.jpg\")\n",
    "print(img2.shape)\n",
    "img2 = img2[0:img1.shape[0], 0:img1.shape[1]]\n",
    "\n",
    "dst = cv.addWeighted(img1,0.1,img2,0.8,0)\n",
    "\n",
    "cv.imshow('dst', dst)\n",
    "cv.waitKey(0)\n",
    "cv.destroyAllWindows()"
   ]
  },
  {
   "cell_type": "code",
   "execution_count": 10,
   "metadata": {},
   "outputs": [],
   "source": [
    "# 图片位操作\n",
    "logo = cv.imread(\"img/opencv-logo-white.jpg\")\n",
    "main_img = cv.imread(\"img/roi_test.jpg\")\n",
    "rows, cols, channels = logo.shape\n",
    "roi = main_img[0:rows, 0:cols]\n",
    "\n",
    "logo_gray = cv.cvtColor(logo, cv.COLOR_BGR2GRAY)\n",
    "# 转换为二值图像，10-阈值，255-填充色，0黑\n",
    "# 使用固定阈值进行二值处理,大于时取 255，反之取 0；\n",
    "ret, mask = cv.threshold(logo_gray, 30, 255, cv.THRESH_BINARY)\n",
    "mask_inv = cv.bitwise_not(mask) # 取反\n",
    "\n",
    "main_bg = cv.bitwise_and(roi, roi, mask=mask_inv)\n",
    "logo_fg = cv.bitwise_and(logo, logo, mask=mask)\n",
    "dst = cv.add(logo_fg, main_bg)\n",
    "main_img[0:rows, 0:cols ] = dst\n",
    "\n",
    "\n",
    "# cv.imshow('dst', dst)\n",
    "cv.imshow('image_mask', main_img)\n",
    "cv.waitKey(0)\n",
    "cv.destroyAllWindows()\n"
   ]
  }
 ],
 "metadata": {
  "kernelspec": {
   "display_name": "Python 3",
   "language": "python",
   "name": "python3"
  },
  "language_info": {
   "codemirror_mode": {
    "name": "ipython",
    "version": 3
   },
   "file_extension": ".py",
   "mimetype": "text/x-python",
   "name": "python",
   "nbconvert_exporter": "python",
   "pygments_lexer": "ipython3",
   "version": "3.8.16"
  },
  "orig_nbformat": 4
 },
 "nbformat": 4,
 "nbformat_minor": 2
}
